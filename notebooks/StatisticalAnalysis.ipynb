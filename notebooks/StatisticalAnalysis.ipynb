{
 "cells": [
  {
   "cell_type": "code",
   "execution_count": null,
   "metadata": {},
   "outputs": [],
   "source": [
    "import pandas as pd\n",
    "import numpy as np\n",
    "from matplotlib import pyplot as plt\n",
    "from collections import Counter\n",
    "import math\n",
    "from statistics import *"
   ]
  },
  {
   "cell_type": "markdown",
   "metadata": {},
   "source": [
    "### Statistical Analysis for different feature types\n",
    "The data has 4 different types of features: Nominal, Ordinal, Interval, Ratio. We can do statistical analysis on each of feature type to discover hidden patterns.\n",
    "\n",
    "- Nominal: 'genres' from title.Basics.csv | Find **Mode** and **Entropy**\n",
    "- Ordinal: 'episodeNumber' from title.episodes.csv | Find **Median** and **Percentile**\n",
    "- Interval: 'birthYear' from name.basics.csv | Find **Mean** and **Standard Deviation**\n",
    "- Ratio: 'averageRating' from title.ratings.csv | Find **Geometric Mean** and **Harmonic Mean**"
   ]
  },
  {
   "cell_type": "code",
   "execution_count": null,
   "metadata": {},
   "outputs": [],
   "source": [
    "titleBasicsDf = pd.read_csv('dataset/originalDataset/title.basics.csv', sep='\\t', low_memory=False)\n",
    "titleBasicsDf.head(5)"
   ]
  },
  {
   "cell_type": "code",
   "execution_count": null,
   "metadata": {},
   "outputs": [],
   "source": [
    "titleEpisodesDf = pd.read_csv('dataset/originalDataset/title.episode.csv', sep='\\t', low_memory=False)\n",
    "titleEpisodesDf.head(5)"
   ]
  },
  {
   "cell_type": "code",
   "execution_count": null,
   "metadata": {},
   "outputs": [],
   "source": [
    "nameBasicsDf = pd.read_csv('dataset/originalDataset/name.basics.csv', sep='\\t', low_memory=False)\n",
    "nameBasicsDf.head(5)"
   ]
  },
  {
   "cell_type": "code",
   "execution_count": null,
   "metadata": {},
   "outputs": [],
   "source": [
    "titleRatingsDf = pd.read_csv('dataset/originalDataset/title.ratings.csv', sep='\\t', low_memory=False)\n",
    "titleRatingsDf.head(5)"
   ]
  },
  {
   "cell_type": "markdown",
   "metadata": {},
   "source": [
    "Nominal: Find the mode and Entropy for 'genres'"
   ]
  },
  {
   "cell_type": "code",
   "execution_count": null,
   "metadata": {},
   "outputs": [],
   "source": [
    "# Find the mode for the nominal dimension 'genres'\n",
    "\n",
    "series_genres = titleBasicsDf['genres'] # A Series object with no n/a's\n",
    "\n",
    "genreList = []\n",
    "for genre in series_genres:\n",
    "    if type(genre) is str and genre != '\\\\N': # Look for genres that have a string value and not null\n",
    "        some_genres = genre.split(\",\") # Split strings that have more than one genre\n",
    "        genreList.extend(some_genres) # Update dictionary genre counter\n",
    "\n",
    "modeResults = mode(genreList)\n",
    "print(f\"The mode for genres is {modeResults}.\")\n",
    "\n",
    "# Describing the results (mode) via a graph\n",
    "plt.style.use(\"fivethirtyeight\")\n",
    "\n",
    "# Create the x- and y-axis\n",
    "df_genres = titleBasicsDf[\"genres\"]\n",
    "\n",
    "counter = Counter()\n",
    "\n",
    "for index, genre in df_genres.items():\n",
    "    if type(genre) is str:\n",
    "        some_genres = genre.split(\",\")\n",
    "        counter.update(some_genres)\n",
    "        \n",
    "genres = []\n",
    "num_movies = []\n",
    "\n",
    "for genre, mov_count in counter.most_common(10):\n",
    "    genres.append(genre)\n",
    "    num_movies.append(mov_count)\n",
    "\n",
    "genres.reverse()\n",
    "num_movies.reverse()\n",
    "\n",
    "plt.barh(genres, num_movies) # Use this when text labels in the x-axis become too long\n",
    "\n",
    "plt.title(\"Most Popular Genres\")\n",
    "plt.ylabel(\"Genres\")\n",
    "plt.xlabel(\"Number of Movies Made\")\n",
    "\n",
    "plt.show()"
   ]
  },
  {
   "cell_type": "code",
   "execution_count": null,
   "metadata": {},
   "outputs": [],
   "source": [
    "# Describing the results (mode) via the dataframe series object\n",
    "\n",
    "counter = Counter()\n",
    "for genre in series_genres:\n",
    "    if type(genre) is str and genre != '\\\\N': # Look for genres that have a string value and not null\n",
    "        some_genres = genre.split(\",\") # Split strings that have more than one genre\n",
    "        counter.update(some_genres) # Update dictionary genre counter\n",
    "\n",
    "genreCount = counter.items() # Count the number of unique genres that occur in the series object\n",
    "genreList = list(genreCount) # Dictionary to List in order to sort the tuples by value in ascending order\n",
    "genreSortedList = sorted(genreList, key=lambda x: x[1])\n",
    "genreSortedDict = dict(genreSortedList) # Convert back into a dict but sorted by values in ascending order\n",
    "\n",
    "df_genreSortedList = pd.DataFrame(genreSortedList, columns=['Genre', 'Number of Movies Made'])\n",
    "df_genreSortedList"
   ]
  },
  {
   "cell_type": "code",
   "execution_count": null,
   "metadata": {},
   "outputs": [],
   "source": [
    "# Find the entropy (Shannon's entropy) for the nominal dimension 'genres'\n",
    "\n",
    "genreCountTotal = sum(n for _, n in genreSortedList) # Sum of all genres counted in the dataframe\n",
    "entropyDict = {}\n",
    "genreEntropyTotal = 0\n",
    "\n",
    "prob_values = []\n",
    "\n",
    "for value in genreSortedDict.values():\n",
    "    probabilitiesPerGenre = value / genreCountTotal # Probability of one genre's count / total genres count\n",
    "    entropy_genre =  probabilitiesPerGenre * math.log2(probabilitiesPerGenre)\n",
    "    prob_values.append(entropy_genre)\n",
    "\n",
    "entropy = round(-sum(prob_values), 2)\n",
    "print(f\"The entropy for genres is {entropy}.\")\n",
    "\n",
    "# Describing the results (entropy) via the calculations performed earlier stored in the the list 'prob_values'\n",
    "# By summing up all the individual genre's entropies, the total entropy will be calculated as shown above\n",
    "\n",
    "data_entropy = {'Genres': genreSortedDict.keys(), 'Entropy for each Genre': prob_values}\n",
    "df_entropy = pd.DataFrame(data_entropy) \n",
    "df_entropy"
   ]
  },
  {
   "cell_type": "markdown",
   "metadata": {},
   "source": [
    "### Analysis\n",
    "- Based on these two visuals, “Drama” is proven to be the genrethat appears the most often. \n",
    "- Entropy is 4.08, the table shows the entropy for each genre is shown and most of\n",
    "them are equally likely to happen but at a very low possibility, with “Drama” having the\n",
    "highest entropy"
   ]
  },
  {
   "cell_type": "markdown",
   "metadata": {},
   "source": [
    "Ordinal: Find the median and Percentile for 'episodeNumber'"
   ]
  },
  {
   "cell_type": "code",
   "execution_count": null,
   "metadata": {},
   "outputs": [],
   "source": [
    "# Find the median for the ordinal dimension 'episodeNumber'\n",
    "\n",
    "series_episodeNumber = titleEpisodesDf['episodeNumber'] # A Series object with no n/a's\n",
    "episodeNumberList = []\n",
    "#print(series_genres2.index)\n",
    "for row_Index, episodeNumber in enumerate(series_episodeNumber):\n",
    "    if type(episodeNumber) is str and episodeNumber != '\\\\N': # Look for episodeNumbers that have a string value and not null\n",
    "        episodeNumberList.append(int(episodeNumber)) # Add those non-null values into a list and convert into an int for statistical processing (median, percentile)\n",
    "\n",
    "\n",
    "medianResults = median(episodeNumberList)\n",
    "print(f\"The median for episodeNumber is {medianResults}.\")\n",
    "\n",
    "\n",
    "# Find the percentile for the ordinal dimension 'episodeNumber'\n",
    "\n",
    "episodeNumberArray = np.array(episodeNumberList) # Convert list into an array to use the built-in percentile function by numpy\n",
    "\n",
    "percentile_25 = int(np.percentile(episodeNumberArray, 25))\n",
    "percentile_50 = int(np.percentile(episodeNumberArray, 50))\n",
    "percentile_75 = int(np.percentile(episodeNumberArray, 75))\n",
    "\n",
    "print(f\"The percentiles for the 25th, 50th and 75th of episodeNumber are as follows:\\n 25th percentile = {percentile_25}, 50th percentile = {percentile_50}, 75th percentile = {percentile_75}.\")\n"
   ]
  },
  {
   "cell_type": "code",
   "execution_count": null,
   "metadata": {},
   "outputs": [],
   "source": [
    "# Describe the results by graphing out the episodeNumbers and showing where the percentiles and median are located\n",
    "\n",
    "bins = [0, 50, 100, 150, 200, 250, 300, 350]\n",
    "plt.hist(episodeNumberList, bins=bins, edgecolor=\"black\", color=\"#444444\")\n",
    "\n",
    "plt.yscale('log')\n",
    "\n",
    "plt.axvline(percentile_25, color='#1f77b4', label=f'Percentile 25th ({percentile_25})', linewidth=2)\n",
    "plt.axvline(percentile_50, color='#fc4f30', label=f'Percentile 50th/Median ({percentile_50})', linewidth=2)\n",
    "plt.axvline(percentile_75, color='#ff7f0e', label=f'Percentile 75th ({percentile_75})', linewidth=2)\n",
    "plt.legend()\n",
    "\n",
    "plt.title(\"Number of Episodes by Frequency\")\n",
    "plt.xlabel(\"Number of Episodes\")\n",
    "plt.ylabel(\"Frequency\")\n",
    "\n",
    "plt.show()"
   ]
  },
  {
   "cell_type": "markdown",
   "metadata": {},
   "source": [
    "### Analysis\n",
    "- The median episodeNumber is 25, and the percentiles at 25th, 50th and 75th are 7, 25, and 141 respectively.\n",
    "- Movies and Shows with <25 episodes dominate the scene"
   ]
  },
  {
   "cell_type": "markdown",
   "metadata": {},
   "source": [
    "Interval: Find the mean and Standard Deviation for 'birthYear'"
   ]
  },
  {
   "cell_type": "code",
   "execution_count": null,
   "metadata": {},
   "outputs": [],
   "source": [
    "# Find the mean for the interval dimension 'birthYear'\n",
    "\n",
    "series_birthYear = nameBasicsDf['birthYear'] # A Series object with no n/a's\n",
    "\n",
    "birthYearList = []\n",
    "\n",
    "for birthYear in series_birthYear:\n",
    "\n",
    "    if type(birthYear) is str and birthYear.isnumeric() and int(birthYear) >= 1850:\n",
    "        birthYearList.append(int(birthYear))\n",
    "\n",
    "meanResults = int(mean(birthYearList)) # Note: Data has some weird values shown (Ex. Starting from single digit years)\n",
    "print(f\"The mean for birthYear is {meanResults}.\")\n",
    "\n",
    "# Find the standard deviation for the interval dimension 'birthYear'\n",
    "\n",
    "standardDevResults = round(pstdev(birthYearList), 2)\n",
    "print(f\"The standard deviation for birthYear is {standardDevResults}.\")\n",
    "\n",
    "\n",
    "# Describe the results by graphing out the birthYear and showing where the mean and standard deviation are located\n",
    "\n",
    "plt.style.use('fivethirtyeight')\n",
    "\n",
    "bins = [1890, 1900, 1910, 1920, 1930, 1940, 1950, 1960, 1970, 1980, 1990, 2000, 2010, 2020]\n",
    "\n",
    "plt.hist(birthYearList, bins = bins, edgecolor='black', log=True)\n",
    "\n",
    "color_mean = '#40e0d0'\n",
    "color_stdv = '#fc4f30'\n",
    "\n",
    "plt.axvline(meanResults, color=color_mean, label=f'Mean ({meanResults})', linewidth=2)\n",
    "plt.axvline(meanResults - standardDevResults, color='red', label=f'Standard Deviation ({round(meanResults - standardDevResults)})', linewidth=2)\n",
    "plt.axvline(meanResults + standardDevResults, color='blue', label=f'Standard Deviation ({round(meanResults + standardDevResults)})', linewidth=2)\n",
    "\n",
    "plt.legend()\n",
    "\n",
    "plt.title(\"Number of Births per Birth Year\") \n",
    "plt.xlabel(\"Birth Years\")\n",
    "plt.ylabel(\"Frequency\")\n",
    "\n",
    "plt.show()"
   ]
  },
  {
   "cell_type": "markdown",
   "metadata": {},
   "source": [
    "### Analysis\n",
    "- Most people in the database are born in 1952 and the standard deviation is 31 years\n",
    "- The peak is 1980s, then the birth Years falls off after 1980s and 2000-2020 being the lowest # of births\n",
    "- This could largely be due to low data or the baby boom"
   ]
  },
  {
   "cell_type": "markdown",
   "metadata": {},
   "source": [
    "Ratio: Find the Geometric and Harmonic Mean for 'averageRating'"
   ]
  },
  {
   "cell_type": "code",
   "execution_count": null,
   "metadata": {},
   "outputs": [],
   "source": [
    "# Find the geometric mean for the ratio dimension 'averageRating'\n",
    "\n",
    "averageRating = titleRatingsDf['averageRating']\n",
    "geometricMeanResults = round(geometric_mean(averageRating), 2)\n",
    "print(f'Geometric Mean: {geometricMeanResults}')\n",
    "\n",
    "# Find the harmonic mean for the ratio dimension 'averageRating'\n",
    "\n",
    "harmonicMeanResults = round(harmonic_mean(averageRating), 2)\n",
    "print(f'Harmonic Mean: {harmonicMeanResults}')\n",
    "\n",
    "# Describe the results by graphing out the averageRating and showing where the geometric mean and harmonic mean are located\n",
    "\n",
    "bins = [1.0, 2.0, 3.0, 4.0, 5.0, 6.0, 7.0, 8.0, 9.0, 10.0]\n",
    "\n",
    "# the log parameter allows us to see the data in a semi-log scale to see frequency of groups with smaller counts\n",
    "plt.hist(averageRating, bins=bins, edgecolor='black', log=True)\n",
    "\n",
    "color_g_mean = '#40e0d0'\n",
    "color_h_mean = '#fc4f30'\n",
    "\n",
    "# Add the geometric and harmonic mean line allowing us to see infer information about the data\n",
    "plt.axvline(geometricMeanResults, color=color_g_mean, label=f'Geometric Mean', linewidth=2)\n",
    "plt.axvline(harmonicMeanResults, color=color_h_mean, label=f'Harmonic Mean', linewidth=2)\n",
    "\n",
    "plt.legend()\n",
    "\n",
    "plt.title('Distribution of Average Rating for all shows')\n",
    "plt.xlabel('Average Rating')\n",
    "plt.ylabel('Frequency')\n",
    "\n",
    "plt.tight_layout()\n",
    "plt.show()"
   ]
  },
  {
   "cell_type": "markdown",
   "metadata": {},
   "source": [
    "### Analysis\n",
    "- The geometric mean is 6.74 and the harmonic mean is 6.5. \n",
    "- The values for averageRatings do not have any units nor do they have rates,\n",
    "which causes the geometric mean and harmonic mean to be marginally similar to one\n",
    "another."
   ]
  }
 ],
 "metadata": {
  "kernelspec": {
   "display_name": "venv",
   "language": "python",
   "name": "venv"
  },
  "language_info": {
   "codemirror_mode": {
    "name": "ipython",
    "version": 3
   },
   "file_extension": ".py",
   "mimetype": "text/x-python",
   "name": "python",
   "nbconvert_exporter": "python",
   "pygments_lexer": "ipython3",
   "version": "3.10.4"
  },
  "orig_nbformat": 4
 },
 "nbformat": 4,
 "nbformat_minor": 2
}
