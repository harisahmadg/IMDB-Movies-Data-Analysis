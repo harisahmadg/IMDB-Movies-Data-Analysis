{
 "cells": [
  {
   "cell_type": "markdown",
   "metadata": {},
   "source": [
    "# Data Preparation\n",
    "\n",
    "1. Convert .tsv files to .csv files"
   ]
  },
  {
   "cell_type": "code",
   "execution_count": null,
   "metadata": {},
   "outputs": [],
   "source": [
    "import re\n",
    "from genericpath import isfile\n",
    "import os\n",
    "import pandas as pd\n",
    "\n",
    "datasets = []\n",
    "directory = 'dataset/raw/'\n",
    "\n",
    "for fileName in os.listdir(directory):\n",
    "    f = os.path.join(directory, fileName)\n",
    "    if os.path.isfile(f):\n",
    "        datasets.append(f)\n",
    "        \n",
    "datasets.pop(1) # remove name.basics for now because its not that useful\n",
    "datasets"
   ]
  },
  {
   "cell_type": "code",
   "execution_count": null,
   "metadata": {},
   "outputs": [],
   "source": [
    "import numpy as np\n",
    "\n",
    "def removeNa(df):\n",
    "    to_nan = {\n",
    "        \"\": np.nan,\n",
    "        \" \": np.nan,\n",
    "        '\\\\N': np.nan\n",
    "    }\n",
    "    if 'language' in df or 'attributes' in df:\n",
    "        df.drop(['language', 'attributes'], axis=1, inplace=True)\n",
    "    if 'endYear' in df:\n",
    "        df.drop('endYear', axis=1, inplace=True)\n",
    "\n",
    "    df.replace(to_nan, inplace=True)\n",
    "    df = df.dropna()\n",
    "    return df"
   ]
  },
  {
   "cell_type": "markdown",
   "metadata": {},
   "source": [
    "2. Data Cleansing"
   ]
  },
  {
   "cell_type": "code",
   "execution_count": null,
   "metadata": {},
   "outputs": [],
   "source": [
    "# Remove Empty rows from each dataframe and merge to one big dataset\n",
    "dfs = []\n",
    "for dataset in datasets:\n",
    "    # DataFrame\n",
    "    df = pd.read_csv(dataset, sep='\\t', low_memory=False, nrows=100000)\n",
    "    fileName = dataset.split('/')[-1]\n",
    "\n",
    "    # Analysis\n",
    "    objects = df.shape[0]\n",
    "    df = removeNa(df)\n",
    "    print(f'Removed {(objects-df.shape[0])} Null Entries from {fileName}')\n",
    "\n",
    "    # Convert to csv\n",
    "    df.to_csv('dataset/mainDataset/' + fileName, index=False)\n",
    "    dfs.append(df)"
   ]
  }
 ],
 "metadata": {
  "kernelspec": {
   "display_name": "venv",
   "language": "python",
   "name": "python3"
  },
  "language_info": {
   "codemirror_mode": {
    "name": "ipython",
    "version": 3
   },
   "file_extension": ".py",
   "mimetype": "text/x-python",
   "name": "python",
   "nbconvert_exporter": "python",
   "pygments_lexer": "ipython3",
   "version": "3.12.3"
  },
  "orig_nbformat": 4
 },
 "nbformat": 4,
 "nbformat_minor": 2
}
