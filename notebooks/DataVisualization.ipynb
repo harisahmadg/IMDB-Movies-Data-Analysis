{
 "cells": [
  {
   "cell_type": "code",
   "execution_count": null,
   "metadata": {},
   "outputs": [],
   "source": [
    "import pandas as pd\n",
    "import numpy as np\n",
    "from matplotlib import pyplot as plt\n",
    "from collections import Counter\n",
    "import statistics as stats"
   ]
  },
  {
   "cell_type": "markdown",
   "metadata": {},
   "source": [
    "### Visualization and analysis of title.ratings.csv"
   ]
  },
  {
   "cell_type": "code",
   "execution_count": null,
   "metadata": {},
   "outputs": [],
   "source": [
    "titleRatings_df = pd.read_csv('dataset/originalDataset/title.ratings.csv', sep='\\t', low_memory=False)\n",
    "titleRatings_df.head(5)"
   ]
  },
  {
   "cell_type": "markdown",
   "metadata": {},
   "source": [
    "Lets plot the average Rating for each show/movie"
   ]
  },
  {
   "cell_type": "code",
   "execution_count": null,
   "metadata": {},
   "outputs": [],
   "source": [
    "plt.style.use('seaborn')\n",
    "\n",
    "aveRating = titleRatings_df['averageRating']\n",
    "bins = [1.0, 2.0, 3.0, 4.0, 5.0, 6.0, 7.0, 8.0, 9.0, 10.0]\n",
    "\n",
    "# the log parameter allows us to see the data in a semi-log scale to see frequency of groups with smaller counts\n",
    "plt.hist(aveRating, bins=bins, edgecolor='black', log=True)\n",
    "\n",
    "median_rating = aveRating.median()\n",
    "standardDev_rating = aveRating.std()\n",
    "\n",
    "standardDev_left_1 = median_rating - standardDev_rating\n",
    "standardDev_right_1 = median_rating + standardDev_rating\n",
    "\n",
    "color_ratings = '#fc4f30'\n",
    "color_1_std = '#40e0d0'\n",
    "\n",
    "# Adds a median line allowing us to see infer information about the data\n",
    "plt.axvline(median_rating, color=color_ratings, label='Average Movie Median', linewidth=2)\n",
    "plt.axvline(standardDev_left_1, color=color_1_std, linestyle='--', label='1 Standard Deviation', linewidth=2)\n",
    "plt.axvline(standardDev_right_1, color=color_1_std, linestyle='--', linewidth=2)\n",
    "\n",
    "plt.legend()\n",
    "\n",
    "plt.title('Number of Shows by Rating')\n",
    "plt.xlabel('Rating')\n",
    "plt.ylabel('Number of Movies')\n",
    "\n",
    "plt.tight_layout()\n",
    "plt.show()"
   ]
  },
  {
   "cell_type": "markdown",
   "metadata": {},
   "source": [
    "### Analysis\n",
    "- The overall median of the average movie ratings is 7.1 indicated by the red line\n",
    "- The blue dotted lines show the range of movies that lie within one standard deviation away from the mean\n",
    "- The data follows a normal distribution"
   ]
  },
  {
   "cell_type": "markdown",
   "metadata": {},
   "source": [
    "Next, lets plot the average rating of a movie/show by the # of votes given to see its popularity"
   ]
  },
  {
   "cell_type": "code",
   "execution_count": null,
   "metadata": {},
   "outputs": [],
   "source": [
    "plt.style.use('seaborn')\n",
    "\n",
    "data_sample = titleRatings_df.sample(frac=0.005)\n",
    "aveRating = data_sample['averageRating']\n",
    "popularity = data_sample['numVotes']\n",
    "\n",
    "# c param determines how much of a particular color (defined by cmap) a point will have\n",
    "plt.scatter(aveRating, popularity, edgecolor='black', linewidth=1, alpha=0.75)\n",
    "\n",
    "median_rating = aveRating.median()\n",
    "standardDev_rating = aveRating.std()\n",
    "\n",
    "standardDev_left_1 = median_rating - standardDev_rating\n",
    "standardDev_right_1 = median_rating + standardDev_rating\n",
    "\n",
    "standardDev_left_2 = median_rating - 2*standardDev_rating\n",
    "standardDev_right_2 = median_rating + 2*standardDev_rating\n",
    "\n",
    "color_ratings = '#fc4f30'\n",
    "popThresh_color = '#f08080'\n",
    "color_1_std = '#40e0d0'\n",
    "color_2_std = '#666666'\n",
    "\n",
    "# Adds a median line allowing us to see infer information about the data\n",
    "plt.axvline(median_rating, color=color_ratings, label='Average Movie Rating Median', linewidth=2)\n",
    "\n",
    "plt.axvline(standardDev_left_1, color=color_1_std, linestyle='--', label='1 Standard Deviation', linewidth=2)\n",
    "plt.axvline(standardDev_right_1, color=color_1_std, linestyle='--', linewidth=2)\n",
    "\n",
    "plt.axvline(standardDev_left_2, color=color_2_std, linestyle='--', label='2 Standard Deviations', linewidth=2)\n",
    "plt.axvline(standardDev_right_2, color=color_2_std, linestyle='--', linewidth=2)\n",
    "\n",
    "plt.axhline(33000, color=popThresh_color, label='Popularity threshold (33K)', linewidth=2)\n",
    "\n",
    "# cbar = plt.colorbar()\n",
    "# cbar.set_label('Like/Dislike Ratio')\n",
    "\n",
    "plt.yscale('log')\n",
    "plt.legend()\n",
    "\n",
    "plt.title('Popularity by Average Rating')\n",
    "plt.xlabel('Average Rating')\n",
    "plt.ylabel('Number of People That Rated')\n",
    "\n",
    "plt.tight_layout()\n",
    "plt.show()"
   ]
  },
  {
   "cell_type": "markdown",
   "metadata": {},
   "source": [
    "### Analysis\n",
    "- This visual shows us the scatterplot between the movies based on their average rating and the total number of votes given for a particular movie/show\n",
    "- From the scatterplot shown above, we note that there are a larger number of points around the median that go beyond the popularity threshold, specifically points within 1 standard deviation away from the mean\n",
    "- **Note:** The popularity threshold is simply a measurement to distinguish popular titles by using the number of people who rated the titles (the y-axis), in this case, a title must go beyond 33k votes (or number of people who rated) to be considered popular. This tells us that the best shows don’t necessarily have to be well rated for it to be popular (or known by many people)"
   ]
  },
  {
   "cell_type": "markdown",
   "metadata": {},
   "source": [
    "### Visualization and analysis of title.akas.csv"
   ]
  },
  {
   "cell_type": "code",
   "execution_count": null,
   "metadata": {},
   "outputs": [],
   "source": [
    "titleAkas_df = pd.read_csv('dataset/originalDataset/title.akas.csv', sep='\\t', low_memory=False)\n",
    "titleAkas_df.head(5)"
   ]
  },
  {
   "cell_type": "markdown",
   "metadata": {},
   "source": [
    "Find the number of adaptations for each titleId"
   ]
  },
  {
   "cell_type": "code",
   "execution_count": null,
   "metadata": {},
   "outputs": [],
   "source": [
    "# Create the x- and y-axis\n",
    "series_akas = titleAkas_df[\"titleId\"]\n",
    "\n",
    "counter = Counter()\n",
    "\n",
    "# find the number of adaptations\n",
    "for index, aka in series_akas.items(): \n",
    "    counter.update([aka])\n",
    "\n",
    "adaptation_cnts = []\n",
    "\n",
    "for id_title, adaptation_cnt in counter.items():\n",
    "    adaptation_cnts.append(adaptation_cnt)\n",
    "\n",
    "#Visualize above information\n",
    "plt.style.use('fivethirtyeight')\n",
    "\n",
    "bins = [10*i for i in range(19)]\n",
    "\n",
    "# the log parameter allows us to see the data in a semi-log scale to see frequency of groups with smaller counts\n",
    "plt.hist(adaptation_cnts, bins=bins, edgecolor='black', log=True)\n",
    "\n",
    "# Find median\n",
    "median_adaptation = stats.median(adaptation_cnts)\n",
    "color = '#fc4f30'\n",
    "plt.axvline(median_adaptation, color=color, label=f'Adaptation Median ({median_adaptation})', linewidth=2)\n",
    "\n",
    "plt.legend()\n",
    "\n",
    "plt.title('Number of Adaptations by Number of Movies')\n",
    "plt.ylabel('Number of Movies')\n",
    "plt.xlabel('Number of Adaptations')\n",
    "\n",
    "plt.tight_layout()\n",
    "#plt.savefig('image.png', bbox_inches='tight')\n",
    "plt.show()"
   ]
  },
  {
   "cell_type": "markdown",
   "metadata": {},
   "source": [
    "### Analysis\n",
    "- Examples of adaptations include movies translated into different languages, etc.\n",
    "- On average (median) a movie will be adopted 7 times, that is, a title on average will\n",
    "be adapted to 7 different languages"
   ]
  },
  {
   "cell_type": "markdown",
   "metadata": {},
   "source": [
    "Top 10 regions with the most movies"
   ]
  },
  {
   "cell_type": "code",
   "execution_count": null,
   "metadata": {},
   "outputs": [],
   "source": [
    "# Create the x- and y-axis\n",
    "df_region = titleAkas_df[titleAkas_df['region'] != '\\\\N']\n",
    "series_region = df_region[\"region\"]\n",
    "\n",
    "counter = Counter()\n",
    "\n",
    "# find the number of adaptations\n",
    "for index, region in series_region.items(): \n",
    "    counter.update([region])\n",
    "\n",
    "regions = []\n",
    "region_film_counts = []\n",
    "\n",
    "for region_name, region_count in counter.most_common(10):\n",
    "    regions.append(region_name)\n",
    "    region_film_counts.append(region_count)\n",
    "\n",
    "regions.reverse()\n",
    "region_film_counts.reverse()\n",
    "\n",
    "# Visualize above code\n",
    "from matplotlib import pyplot as plt\n",
    "\n",
    "plt.style.use(\"fivethirtyeight\")\n",
    "\n",
    "plt.barh(regions, region_film_counts) # Use this when text labels in the x-axis become too long\n",
    "# plt.xscale('log')\n",
    "\n",
    "plt.title(\"Number of films by region\")\n",
    "plt.xlabel(\"Number of films\")\n",
    "plt.ylabel(\"Regions\")\n",
    "#plt.savefig('image.png', bbox_inches='tight')\n",
    "plt.show()"
   ]
  },
  {
   "cell_type": "markdown",
   "metadata": {},
   "source": [
    "### Analysis\n",
    "- More movies are made in the top 5 countries shown above compared to the rest\n",
    "- France has the most movies released compared to other countries"
   ]
  },
  {
   "cell_type": "markdown",
   "metadata": {},
   "source": [
    "### Visualization of title.basics.csv"
   ]
  },
  {
   "cell_type": "code",
   "execution_count": null,
   "metadata": {},
   "outputs": [],
   "source": [
    "titleBasics_df = pd.read_csv('dataset/originalDataset/title.basics.csv', sep='\\t', low_memory=False)\n",
    "titleBasics_df.head(5)"
   ]
  },
  {
   "cell_type": "markdown",
   "metadata": {},
   "source": [
    "What are the most popular genres?"
   ]
  },
  {
   "cell_type": "code",
   "execution_count": null,
   "metadata": {},
   "outputs": [],
   "source": [
    "########################## Bar Chart ##########################\n",
    "plt.style.use(\"fivethirtyeight\")\n",
    "\n",
    "# Create the x- and y-axis\n",
    "df_genres = titleBasics_df[\"genres\"]\n",
    "\n",
    "counter = Counter()\n",
    "\n",
    "for index, genre in df_genres.items():\n",
    "    if type(genre) is str:\n",
    "        some_genres = genre.split(\",\")\n",
    "        counter.update(some_genres)\n",
    "        \n",
    "genres = []\n",
    "num_movies = []\n",
    "\n",
    "for genre, mov_count in counter.most_common(10):\n",
    "    genres.append(genre)\n",
    "    num_movies.append(mov_count)\n",
    "\n",
    "genres.reverse()\n",
    "num_movies.reverse()\n",
    "\n",
    "plt.barh(genres, num_movies) # Use this when text labels in the x-axis become too long\n",
    "# plt.xscale('log')\n",
    "\n",
    "plt.title(\"Most Popular Genres\")\n",
    "plt.ylabel(\"Genres\")\n",
    "plt.xlabel(\"Number of Movies Made\")\n",
    "plt.show()\n",
    "\n",
    "########################## Pie Chart ##########################\n",
    "\n",
    "plt.style.use(\"fivethirtyeight\")\n",
    "\n",
    "# Create the x- and y-axis\n",
    "df_genres = titleBasics_df[\"genres\"]\n",
    "\n",
    "counter = Counter()\n",
    "for index, genre in df_genres.items():\n",
    "    # Some genres are 'nan'\n",
    "    if type(genre) is str:\n",
    "        some_genres = genre.split(\",\")\n",
    "        counter.update(some_genres)\n",
    "\n",
    "genres = []\n",
    "num_movies = []\n",
    "colors = ['#40e0d0','#666666','#bada55','#f08080','#ff6666', '#00ff00']\n",
    "\n",
    "for genre, mov_count in counter.most_common(5):\n",
    "    genres.append(genre)\n",
    "    num_movies.append(mov_count)\n",
    "\n",
    "explode = [0.1, 0, 0, 0, 0]\n",
    "plt.pie(num_movies, labels = genres, explode=explode, colors=colors, autopct = '%1.1f%%', \n",
    "        wedgeprops= {\"edgecolor\":\"black\"})\n",
    "\n",
    "plt.title(\"Most Popular Genres\")\n",
    "plt.tight_layout()\n",
    "plt.show()"
   ]
  },
  {
   "cell_type": "markdown",
   "metadata": {},
   "source": [
    "### Analysis\n",
    "- Drama is by the most popular genre\n",
    "- Comedy and Drama combined make up for more than 50% of the share in genres"
   ]
  },
  {
   "cell_type": "markdown",
   "metadata": {},
   "source": [
    "How many movies/shows are Adult rated?"
   ]
  },
  {
   "cell_type": "code",
   "execution_count": null,
   "metadata": {},
   "outputs": [],
   "source": [
    "plt.style.use(\"fivethirtyeight\")\n",
    "# Create the x- and y-axis\n",
    "df_isAdult = titleBasics_df[\"isAdult\"]\n",
    "\n",
    "counter = Counter()\n",
    "\n",
    "for isAdult in df_isAdult:\n",
    "    if type(isAdult) is str:\n",
    "        if isAdult == '1':\n",
    "            counter.update([\"Adult\"])\n",
    "        else:\n",
    "            counter.update([\"Non-adult\"])\n",
    "    # if index == 10: break\n",
    "    # print(type(isAdult))\n",
    "\n",
    "# We don't wanna show everything\n",
    "isAdult = []\n",
    "num_isAdult_movies = []\n",
    "colors = ['#40e0d0','#666666']\n",
    "\n",
    "for adult, isAdult_count in counter.most_common(2):\n",
    "    isAdult.append(adult)\n",
    "    num_isAdult_movies.append(isAdult_count)\n",
    "\n",
    "explode = [0.05, 0]\n",
    "plt.pie(num_isAdult_movies, labels = isAdult, explode=explode, colors=colors, autopct = '%1.1f%%', \n",
    "        wedgeprops= {\"edgecolor\":\"black\"})\n",
    "\n",
    "plt.title(\"Adult vs Non-Adult Movies\")\n",
    "plt.tight_layout()\n",
    "plt.show()"
   ]
  },
  {
   "cell_type": "markdown",
   "metadata": {},
   "source": [
    "### Analysis\n",
    "- There are very few adult rated films in comparison to non-adult"
   ]
  },
  {
   "cell_type": "markdown",
   "metadata": {},
   "source": [
    "Using the information for adult and non-adult, what are the genres of such films?"
   ]
  },
  {
   "cell_type": "code",
   "execution_count": null,
   "metadata": {},
   "outputs": [],
   "source": [
    "plt.style.use(\"fivethirtyeight\")\n",
    "\n",
    "# find all the dataframes for each genres\n",
    "df_genres = titleBasics_df[\"genres\"] # a Series object\n",
    "counter = Counter()\n",
    "\n",
    "for genre in df_genres:\n",
    "    # Some genres are 'nan'\n",
    "    if type(genre) is str:\n",
    "        some_genres = genre.split(\",\")\n",
    "        counter.update(some_genres)\n",
    "\n",
    "genres = []\n",
    "\n",
    "for genre, mov_count in counter.most_common(5):\n",
    "    genres.append(genre)\n",
    "\n",
    "# find the number of adult and non-adult films in those genres\n",
    "isAdult_y = []\n",
    "isNonAdult_y = []\n",
    "\n",
    "for genre in genres:\n",
    "    genre_rows = titleBasics_df[titleBasics_df['genres'].str.contains(genre, na=False)] # dataframe object\n",
    "    isAdult_y.append(len(genre_rows[genre_rows['isAdult'] == \"1\"]))\n",
    "    isNonAdult_y.append(len(genre_rows) - isAdult_count)\n",
    "\n",
    "genres.reverse()\n",
    "isAdult_y.reverse()\n",
    "isNonAdult_y.reverse()\n",
    "\n",
    "################# Visualize Information Above ###################\n",
    "\n",
    "x_indexes = np.arange(len(genres))\n",
    "width = 0.25\n",
    "\n",
    "plt.barh(x_indexes - (width/2), isAdult_y, height=width, color=\"#444444\", label=\"Adult\")\n",
    "plt.barh(x_indexes + (width/2), isNonAdult_y, height=width, color=\"#e5ae38\", label=\"Non Adult\")\n",
    "\n",
    "plt.xscale('log')\n",
    "\n",
    "plt.legend(loc=\"lower right\")\n",
    "plt.yticks(x_indexes, labels=genres) # name for each x-tick\n",
    "plt.title(\"Number of Adult Movies by Genre\")\n",
    "plt.xlabel(\"Number of Movies Made\")\n",
    "plt.ylabel(\"Genres of Movies\")\n",
    "\n",
    "plt.tight_layout()\n",
    "plt.show()"
   ]
  },
  {
   "cell_type": "markdown",
   "metadata": {},
   "source": [
    "### Analysis\n",
    "- The bar chart only considers the top 5 genres for simplicity\n",
    "- Large majority of the movies are in the family-friendly ratings\n",
    "- Documentary genre contains the most adult films in comparison to its non adult films"
   ]
  },
  {
   "cell_type": "markdown",
   "metadata": {},
   "source": [
    "What are the average movie runtimes by type?"
   ]
  },
  {
   "cell_type": "code",
   "execution_count": null,
   "metadata": {},
   "outputs": [],
   "source": [
    "# Medians of runtime for titletypes\n",
    "plt.style.use(\"fivethirtyeight\")\n",
    "\n",
    "# find the most occuring titleType\n",
    "df_titleType = titleBasics_df[~titleBasics_df['titleType'].isnull()] # df with no n/a's\n",
    "series_titleType = df_titleType['titleType'] # series with no n/a's\n",
    "counter = Counter()\n",
    "\n",
    "for titleType in series_titleType:\n",
    "    # Some genres are 'nan'\n",
    "    if type(titleType) is str:\n",
    "        counter.update([titleType])\n",
    "\n",
    "most_occuring_titleType = []\n",
    "\n",
    "for titleType, count in counter.most_common(50):\n",
    "    most_occuring_titleType.append(titleType)\n",
    "\n",
    "# find the median runtime for each titleType\n",
    "medians = []\n",
    "df_runtime = df_titleType['runtimeMinutes']\n",
    "\n",
    "for titleType in most_occuring_titleType:\n",
    "    temp_df_runtime = df_titleType[df_titleType['titleType'] == titleType]\n",
    "    series_runtime = temp_df_runtime['runtimeMinutes']\n",
    "    result = series_runtime.str.replace('\\D', '0', regex=True)\n",
    "\n",
    "    titleMedian = result.median(skipna=True)\n",
    "    medians.append(titleMedian)"
   ]
  },
  {
   "cell_type": "code",
   "execution_count": null,
   "metadata": {},
   "outputs": [],
   "source": [
    "n_titleType = []\n",
    "n_medians = []\n",
    "\n",
    "for index, value in enumerate(medians):\n",
    "    if value > 0:\n",
    "        n_titleType.append( most_occuring_titleType[index] )\n",
    "        n_medians.append(value)\n",
    "\n",
    "# Visualize titleType vs median runtime\n",
    "\n",
    "plt.style.use(\"fivethirtyeight\")\n",
    "\n",
    "width = 0.50\n",
    "\n",
    "plt.bar(n_titleType, n_medians, width=width, color=\"#444444\")\n",
    "\n",
    "plt.title(\"Movie Types by Runtime\")\n",
    "plt.xlabel(\"Movie Title Types\")\n",
    "plt.ylabel(\"Median Movie Runtime (mins)\")\n",
    "\n",
    "plt.tight_layout()\n",
    "plt.show()"
   ]
  },
  {
   "cell_type": "markdown",
   "metadata": {},
   "source": [
    "### Analysis\n",
    "- Movies have the longest runtime with an average of ~70 minutes"
   ]
  },
  {
   "cell_type": "markdown",
   "metadata": {},
   "source": [
    "Lets look at the number of movies made each decade"
   ]
  },
  {
   "cell_type": "code",
   "execution_count": null,
   "metadata": {},
   "outputs": [],
   "source": [
    "df_startYear = titleBasics_df[~titleBasics_df['startYear'].isnull()] # df with no n/a's\n",
    "series_startYear = df_startYear['startYear'] # series with no n/a's\n",
    "\n",
    "years = []\n",
    "\n",
    "for startYear in series_startYear:\n",
    "    # Some genres are 'nan', keep track of the count for every year\n",
    "    if type(startYear) is str and startYear.isnumeric():\n",
    "        years.append(int(startYear))\n",
    "\n",
    "# Number of movies made from 1920 to 2020\n",
    "\n",
    "plt.style.use('fivethirtyeight')\n",
    "\n",
    "bins = [1890, 1900, 1910, 1920, 1930, 1940, 1950, 1960, 1970, 1980, 1990, 2000, 2010, 2020]\n",
    "\n",
    "# the log parameter allows us to see the data in a semi-log scale to see frequency of groups with smaller counts\n",
    "plt.hist(years, bins=bins, edgecolor='black', log=True)\n",
    "\n",
    "plt.title('Number of Movies Made by Year')\n",
    "plt.xlabel('Years')\n",
    "plt.ylabel('Number of Movies Made')\n",
    "\n",
    "plt.tight_layout()\n",
    "plt.show()"
   ]
  },
  {
   "cell_type": "markdown",
   "metadata": {},
   "source": [
    "### Analysis\n",
    "- This barchart tells us the progression of how many movies are produced from each decade starting from the very\n",
    "beginning of the industry (back in the 1900s) to now. \n",
    "- As we can see, there was a sudden increase in the number of titles produced in the early years, but later slowed down at a certain level.\n",
    "- However, starting in the 1960s and onwards we notice a more linear increase in the production of various types of titles. We reach the peak of production around 2010-2020 years."
   ]
  }
 ],
 "metadata": {
  "kernelspec": {
   "display_name": "venv",
   "language": "python",
   "name": "venv"
  },
  "language_info": {
   "codemirror_mode": {
    "name": "ipython",
    "version": 3
   },
   "file_extension": ".py",
   "mimetype": "text/x-python",
   "name": "python",
   "nbconvert_exporter": "python",
   "pygments_lexer": "ipython3",
   "version": "3.10.4"
  },
  "orig_nbformat": 4,
  "vscode": {
   "interpreter": {
    "hash": "f6cd2c733150397556764528e5a7da5bf49e674a1d8ece67d7582a6e46e2ff39"
   }
  }
 },
 "nbformat": 4,
 "nbformat_minor": 2
}
