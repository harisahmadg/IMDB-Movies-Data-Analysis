{
 "cells": [
  {
   "cell_type": "markdown",
   "metadata": {},
   "source": [
    "# Data Preparation\n",
    "\n",
    "1. Convert .tsv files to .csv files"
   ]
  },
  {
   "cell_type": "code",
   "execution_count": 79,
   "metadata": {},
   "outputs": [],
   "source": [
    "import re\n",
    "from genericpath import isfile\n",
    "import os\n",
    "import pandas as pd\n",
    "\n",
    "tsv_datasets, csv_datasets = [], []\n",
    "tsv_directory = 'dataset/originalDataset/'\n",
    "# iterate files in dataset directory\n",
    "for fileName in os.listdir(tsv_directory):\n",
    "    f = os.path.join(tsv_directory, fileName)\n",
    "    if os.path.isfile(f):\n",
    "        tsv_datasets.append(f)\n",
    "        csv_datasets.append(f[:len(f)-4] + '.csv')\n",
    "\n",
    "# convert\n",
    "# for i in range(len(tsv_datasets)):\n",
    "#   tsv_file = tsv_datasets[i]\n",
    "#   csv_file = csv_datasets[i]\n",
    "#   with open(tsv_file, 'r') as myfile:  \n",
    "#     with open(csv_file, 'w') as csv_file:\n",
    "#       for line in myfile:\n",
    "#           # Replace every tab with comma\n",
    "#           fileContent = re.sub(\"\\t\", \",\", line)\n",
    "          \n",
    "#           # Writing into csv file\n",
    "#           csv_file.write(fileContent)"
   ]
  },
  {
   "cell_type": "markdown",
   "metadata": {},
   "source": [
    "2. Data Cleansing"
   ]
  },
  {
   "cell_type": "code",
   "execution_count": 76,
   "metadata": {},
   "outputs": [],
   "source": [
    "from locale import D_FMT\n",
    "import numpy as np\n",
    "\n",
    "def removeNa(df):\n",
    "    to_nan = {\n",
    "        \"\": np.nan,\n",
    "        \" \": np.nan,\n",
    "        '\\\\N': np.nan\n",
    "    }\n",
    "\n",
    "    df.replace(to_nan, inplace=True)\n",
    "    df = df.dropna()"
   ]
  },
  {
   "cell_type": "code",
   "execution_count": 85,
   "metadata": {},
   "outputs": [],
   "source": [
    "# Remove Empty rows from each dataframe\n",
    "# ['dataset/originalDataset/title.basics.csv', 'dataset/originalDataset/title.ratings.csv', 'dataset/originalDataset/title.episode.csv', \n",
    "# 'dataset/originalDataset/name.basics.csv', 'dataset/originalDataset/title.crew.csv', 'dataset/originalDataset/title.akas.csv']\n",
    "\n",
    "TB_df = pd.read_csv(csv_datasets[1], low_memory=False)\n",
    "TB_df\n",
    "# TR_df = pd.read_csv(csv_datasets[1], low_memory=False)\n",
    "\n",
    "# print(TB_df.shape)\n",
    "# removeNa(TB_df)\n",
    "# print(TB_df.shape)"
   ]
  }
 ],
 "metadata": {
  "kernelspec": {
   "display_name": "venv",
   "language": "python",
   "name": "venv"
  },
  "language_info": {
   "codemirror_mode": {
    "name": "ipython",
    "version": 3
   },
   "file_extension": ".py",
   "mimetype": "text/x-python",
   "name": "python",
   "nbconvert_exporter": "python",
   "pygments_lexer": "ipython3",
   "version": "3.10.4"
  },
  "orig_nbformat": 4,
  "vscode": {
   "interpreter": {
    "hash": "f6cd2c733150397556764528e5a7da5bf49e674a1d8ece67d7582a6e46e2ff39"
   }
  }
 },
 "nbformat": 4,
 "nbformat_minor": 2
}
