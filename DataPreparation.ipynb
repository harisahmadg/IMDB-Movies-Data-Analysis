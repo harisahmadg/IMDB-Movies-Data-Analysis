{
 "cells": [
  {
   "cell_type": "markdown",
   "metadata": {},
   "source": [
    "# Data Preparation\n",
    "\n",
    "1. Convert .tsv files to .csv files"
   ]
  },
  {
   "cell_type": "code",
   "execution_count": 2,
   "metadata": {},
   "outputs": [
    {
     "data": {
      "text/plain": [
       "['dataset/originalDataset/title.basics.csv',\n",
       " 'dataset/originalDataset/title.ratings.csv',\n",
       " 'dataset/originalDataset/title.episode.csv',\n",
       " 'dataset/originalDataset/title.akas.csv',\n",
       " 'dataset/originalDataset/title.crew.csv']"
      ]
     },
     "execution_count": 2,
     "metadata": {},
     "output_type": "execute_result"
    }
   ],
   "source": [
    "import re\n",
    "from genericpath import isfile\n",
    "import os\n",
    "import pandas as pd\n",
    "\n",
    "datasets = []\n",
    "directory = 'dataset/originalDataset/'\n",
    "\n",
    "for fileName in os.listdir(directory):\n",
    "    f = os.path.join(directory, fileName)\n",
    "    if os.path.isfile(f):\n",
    "        datasets.append(f)\n",
    "        \n",
    "datasets.pop(1) # remove name.basics for now because its not that useful\n",
    "datasets"
   ]
  },
  {
   "cell_type": "code",
   "execution_count": 20,
   "metadata": {},
   "outputs": [],
   "source": [
    "import numpy as np\n",
    "\n",
    "def removeNa(df):\n",
    "    to_nan = {\n",
    "        \"\": np.nan,\n",
    "        \" \": np.nan,\n",
    "        '\\\\N': np.nan\n",
    "    }\n",
    "    if 'language' in df or 'attributes' in df:\n",
    "        df.drop(['language', 'attributes'], axis=1, inplace=True)\n",
    "    if 'endYear' in df:\n",
    "        df.drop('endYear', axis=1, inplace=True)\n",
    "\n",
    "    df.replace(to_nan, inplace=True)\n",
    "    df = df.dropna()\n",
    "    return df"
   ]
  },
  {
   "cell_type": "markdown",
   "metadata": {},
   "source": [
    "2. Data Cleansing"
   ]
  },
  {
   "cell_type": "code",
   "execution_count": 5,
   "metadata": {},
   "outputs": [
    {
     "name": "stdout",
     "output_type": "stream",
     "text": [
      "Removed 16312 Null Entries from title.basics.csv\n",
      "Removed 0 Null Entries from title.ratings.csv\n",
      "Removed 15792 Null Entries from title.episode.csv\n",
      "Removed 35780 Null Entries from title.akas.csv\n",
      "Removed 11692 Null Entries from title.crew.csv\n"
     ]
    }
   ],
   "source": [
    "# Remove Empty rows from each dataframe and merge to one big dataset\n",
    "dfs = []\n",
    "for dataset in datasets:\n",
    "    # DataFrame\n",
    "    df = pd.read_csv(dataset, sep='\\t', low_memory=False, nrows=100000)\n",
    "    fileName = dataset.split('/')[-1]\n",
    "\n",
    "    # Analysis\n",
    "    objects = df.shape[0]\n",
    "    df = removeNa(df)\n",
    "    print(f'Removed {(objects-df.shape[0])} Null Entries from {fileName}')\n",
    "\n",
    "    # Convert to csv\n",
    "    df.to_csv('dataset/mainDataset/' + fileName, index=False)\n",
    "    dfs.append(df)"
   ]
  }
 ],
 "metadata": {
  "kernelspec": {
   "display_name": "venv",
   "language": "python",
   "name": "venv"
  },
  "language_info": {
   "codemirror_mode": {
    "name": "ipython",
    "version": 3
   },
   "file_extension": ".py",
   "mimetype": "text/x-python",
   "name": "python",
   "nbconvert_exporter": "python",
   "pygments_lexer": "ipython3",
   "version": "3.10.4"
  },
  "orig_nbformat": 4,
  "vscode": {
   "interpreter": {
    "hash": "f6cd2c733150397556764528e5a7da5bf49e674a1d8ece67d7582a6e46e2ff39"
   }
  }
 },
 "nbformat": 4,
 "nbformat_minor": 2
}
