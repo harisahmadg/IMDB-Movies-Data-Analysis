{
 "cells": [
  {
   "cell_type": "code",
   "execution_count": 1,
   "metadata": {},
   "outputs": [],
   "source": [
    "import pandas as pd"
   ]
  },
  {
   "cell_type": "code",
   "execution_count": 5,
   "metadata": {},
   "outputs": [],
   "source": [
    "titleRatings_df = pd.read_csv('../originalDataset/title.ratings.csv', nrows=100, sep='\\t', low_memory=False)\n",
    "titleRatings_df.to_csv('title.ratings.csv', index=False)"
   ]
  },
  {
   "cell_type": "code",
   "execution_count": 6,
   "metadata": {},
   "outputs": [],
   "source": [
    "nameBasics_df = pd.read_csv('../originalDataset/name.basics.csv', nrows=100, sep='\\t', low_memory=False)\n",
    "nameBasics_df.to_csv('name.basics.csv', index=False)"
   ]
  },
  {
   "cell_type": "code",
   "execution_count": 7,
   "metadata": {},
   "outputs": [],
   "source": [
    "titleAkas_df = pd.read_csv('../originalDataset/title.akas.csv', nrows=100, sep='\\t', low_memory=False)\n",
    "titleAkas_df.to_csv('title.akas.csv', index=False)"
   ]
  },
  {
   "cell_type": "code",
   "execution_count": null,
   "metadata": {},
   "outputs": [],
   "source": [
    "titleBasics_df = pd.read_csv('../originalDataset/title.basics.csv', nrows=100, sep='\\t', low_memory=False)\n",
    "titleBasics_df.to_csv('title.basics.csv', index=False)"
   ]
  },
  {
   "cell_type": "code",
   "execution_count": null,
   "metadata": {},
   "outputs": [],
   "source": [
    "nameBasics_df = pd.read_csv('../originalDataset/name.basics.csv', nrows=100, sep='\\t', low_memory=False)\n",
    "nameBasics_df.to_csv('name.basics.csv', index=False)"
   ]
  },
  {
   "cell_type": "code",
   "execution_count": null,
   "metadata": {},
   "outputs": [],
   "source": [
    "nameBasics_df = pd.read_csv('../originalDataset/name.basics.csv', nrows=100, sep='\\t', low_memory=False)\n",
    "nameBasics_df.to_csv('name.basics.csv', index=False)"
   ]
  }
 ],
 "metadata": {
  "kernelspec": {
   "display_name": "Python 3.10.4 64-bit",
   "language": "python",
   "name": "python3"
  },
  "language_info": {
   "codemirror_mode": {
    "name": "ipython",
    "version": 3
   },
   "file_extension": ".py",
   "mimetype": "text/x-python",
   "name": "python",
   "nbconvert_exporter": "python",
   "pygments_lexer": "ipython3",
   "version": "3.10.4"
  },
  "orig_nbformat": 4,
  "vscode": {
   "interpreter": {
    "hash": "e7370f93d1d0cde622a1f8e1c04877d8463912d04d973331ad4851f04de6915a"
   }
  }
 },
 "nbformat": 4,
 "nbformat_minor": 2
}
